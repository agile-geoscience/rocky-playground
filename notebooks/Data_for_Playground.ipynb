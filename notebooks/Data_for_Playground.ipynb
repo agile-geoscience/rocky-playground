{
 "cells": [
  {
   "cell_type": "markdown",
   "metadata": {},
   "source": [
    "# Data for Playground\n",
    "\n",
    "The Playground accepts data in a JSON file, with structure like:\n",
    "\n",
    "[\n",
    "  {'x': 100, 'y':  2.3, 'label': -1},\n",
    "  {'x': 200, 'y': -1.2, 'label': -1},\n",
    "  {'x': 340, 'y': 14.9, 'label':  1}\n",
    "]  \n",
    "\n",
    "For classification problems, `label` should be -1 for the negative class and 1 for the positive class. Anything else will be min/max scaled to those nubers. \n",
    "\n",
    "For regression problems, `label` should be min/max scaled to the range [-1, 1], but this will be done for you so you probably don't need to worry about it.\n",
    "\n",
    "`x` and `y` will be standardized — scaled to a zero mean and standard deviation of 1. (The train/test split is done in the app; scaling is done using statistics from the training set only.)"
   ]
  },
  {
   "cell_type": "markdown",
   "metadata": {},
   "source": [
    "## Classification: Sand-shale data from RPC\n",
    "\n",
    "Let's import some data. Here I'm using an extract from the Rock Property Catalog, https://subsurfwiki.org/wiki/Rock_Property_Catalog"
   ]
  },
  {
   "cell_type": "code",
   "execution_count": 3,
   "metadata": {},
   "outputs": [],
   "source": [
    "import pandas as pd\n",
    "from sklearn.preprocessing import StandardScaler\n",
    "\n",
    "df = pd.read_csv('https://geocomp.s3.amazonaws.com/data/RPC_simple.csv')\n",
    "df['label'] = [1 if row[1].Lithology=='sandstone' else 0 for row in df.iterrows()]\n",
    "df[['x', 'y']] = df[['Vp', 'Rho_n']]\n",
    "df[['x', 'y', 'label']].to_json('sand-shale.json', orient='records')"
   ]
  },
  {
   "cell_type": "markdown",
   "metadata": {},
   "source": [
    "## Regression: DTS data from R-39 well"
   ]
  },
  {
   "cell_type": "code",
   "execution_count": 9,
   "metadata": {},
   "outputs": [],
   "source": [
    "import pandas as pd\n",
    "from sklearn.preprocessing import MinMaxScaler\n",
    "import welly\n",
    "import numpy as np\n",
    "\n",
    "r39 = welly.Well.from_las('https://geocomp.s3.amazonaws.com/data/R-39.las', index='original')\n",
    "\n",
    "# Clean up the DTS log.\n",
    "dts = r39.data['DT4S']\n",
    "dts[dts < 0] = np.nan\n",
    "r39.data['DT4S'] = dts.interpolate()\n",
    "\n",
    "# Export.\n",
    "data = r39.data_as_matrix(keys=['RHOB', 'DT4P', 'DT4S'], step=2.0)\n",
    "df = pd.DataFrame(data, columns=['x', 'y', 'label'])\n",
    "df.to_json('dts.json', orient='records')"
   ]
  },
  {
   "cell_type": "markdown",
   "metadata": {},
   "source": [
    "## Regression: Porosity data\n",
    "\n",
    "I'm using a small dataset originally from [**Geoff Bohling**](http://people.ku.edu/~gbohling/) at the Kansas Geological Survey. I can no longer find the data online, but here's what he says about it:\n",
    "\n",
    "> Our example data consist of vertically averaged porosity values, in percent, in Zone A of the Big Bean Oil Field (fictitious, but based on real data). Porosity values are available from 85 wells distributed throughout the field, which is approximately 20 km in east-west extent and 16 km north-south. The porosities range from 12% to 17%.\n",
    "\n",
    "[Read more about it](http://discoverspatial.in/wp-content/uploads/2018/04/IntroToGeostatistics-Geoff-Bohling.pdf)"
   ]
  },
  {
   "cell_type": "code",
   "execution_count": 12,
   "metadata": {},
   "outputs": [
    {
     "data": {
      "text/html": [
       "<div>\n",
       "<style scoped>\n",
       "    .dataframe tbody tr th:only-of-type {\n",
       "        vertical-align: middle;\n",
       "    }\n",
       "\n",
       "    .dataframe tbody tr th {\n",
       "        vertical-align: top;\n",
       "    }\n",
       "\n",
       "    .dataframe thead th {\n",
       "        text-align: right;\n",
       "    }\n",
       "</style>\n",
       "<table border=\"1\" class=\"dataframe\">\n",
       "  <thead>\n",
       "    <tr style=\"text-align: right;\">\n",
       "      <th></th>\n",
       "      <th>x</th>\n",
       "      <th>y</th>\n",
       "      <th>thick</th>\n",
       "      <th>por</th>\n",
       "      <th>perm</th>\n",
       "    </tr>\n",
       "  </thead>\n",
       "  <tbody>\n",
       "    <tr>\n",
       "      <th>0</th>\n",
       "      <td>12100.0</td>\n",
       "      <td>8300.0</td>\n",
       "      <td>37.1531</td>\n",
       "      <td>14.6515</td>\n",
       "      <td>2.8547</td>\n",
       "    </tr>\n",
       "    <tr>\n",
       "      <th>1</th>\n",
       "      <td>5300.0</td>\n",
       "      <td>8700.0</td>\n",
       "      <td>31.4993</td>\n",
       "      <td>14.5093</td>\n",
       "      <td>NaN</td>\n",
       "    </tr>\n",
       "    <tr>\n",
       "      <th>2</th>\n",
       "      <td>3500.0</td>\n",
       "      <td>13900.0</td>\n",
       "      <td>36.9185</td>\n",
       "      <td>14.0639</td>\n",
       "      <td>NaN</td>\n",
       "    </tr>\n",
       "    <tr>\n",
       "      <th>3</th>\n",
       "      <td>5100.0</td>\n",
       "      <td>1900.0</td>\n",
       "      <td>24.0156</td>\n",
       "      <td>15.1084</td>\n",
       "      <td>1.1407</td>\n",
       "    </tr>\n",
       "    <tr>\n",
       "      <th>4</th>\n",
       "      <td>9900.0</td>\n",
       "      <td>13700.0</td>\n",
       "      <td>35.0411</td>\n",
       "      <td>13.9190</td>\n",
       "      <td>NaN</td>\n",
       "    </tr>\n",
       "  </tbody>\n",
       "</table>\n",
       "</div>"
      ],
      "text/plain": [
       "         x        y    thick      por    perm\n",
       "0  12100.0   8300.0  37.1531  14.6515  2.8547\n",
       "1   5300.0   8700.0  31.4993  14.5093     NaN\n",
       "2   3500.0  13900.0  36.9185  14.0639     NaN\n",
       "3   5100.0   1900.0  24.0156  15.1084  1.1407\n",
       "4   9900.0  13700.0  35.0411  13.9190     NaN"
      ]
     },
     "execution_count": 12,
     "metadata": {},
     "output_type": "execute_result"
    }
   ],
   "source": [
    "import pandas as pd\n",
    "\n",
    "fname = \"https://geocomp.s3.amazonaws.com/data/ZoneA.dat\"\n",
    "\n",
    "df = pd.read_csv(fname,\n",
    "                 sep=' ',\n",
    "                 header=9,\n",
    "                 usecols=[0, 1, 2, 3, 4],\n",
    "                 names=['x', 'y', 'thick', 'por', 'perm'],\n",
    "                 dtype=\"float64\",\n",
    "                 na_values=[-999.9999],\n",
    "                )\n",
    "\n",
    "df.head()"
   ]
  },
  {
   "cell_type": "code",
   "execution_count": 13,
   "metadata": {},
   "outputs": [],
   "source": [
    "from sklearn.preprocessing import MinMaxScaler\n",
    "\n",
    "df['label'] = df.por\n",
    "df[['x', 'y', 'label']].to_json('porosity.json', orient='records')"
   ]
  },
  {
   "cell_type": "markdown",
   "metadata": {},
   "source": [
    "--- \n",
    "\n",
    "&copy; 2021 Agile Scientific"
   ]
  }
 ],
 "metadata": {
  "celltoolbar": "Tags",
  "kernelspec": {
   "display_name": "geoml",
   "language": "python",
   "name": "geoml"
  },
  "language_info": {
   "codemirror_mode": {
    "name": "ipython",
    "version": 3
   },
   "file_extension": ".py",
   "mimetype": "text/x-python",
   "name": "python",
   "nbconvert_exporter": "python",
   "pygments_lexer": "ipython3",
   "version": "3.7.10"
  }
 },
 "nbformat": 4,
 "nbformat_minor": 4
}
